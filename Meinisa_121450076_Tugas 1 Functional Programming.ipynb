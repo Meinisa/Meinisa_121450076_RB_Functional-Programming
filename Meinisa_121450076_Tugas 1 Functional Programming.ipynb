{
 "cells": [
  {
   "attachments": {},
   "cell_type": "markdown",
   "metadata": {},
   "source": [
    "Nama  : Meinisa\n",
    "NIM   : 121450076\n",
    "Prodi : Sains Data"
   ]
  },
  {
   "cell_type": "code",
   "execution_count": 1,
   "metadata": {},
   "outputs": [
    {
     "name": "stdout",
     "output_type": "stream",
     "text": [
      "Password awal Anda : Meinisa\n",
      "Password terenkripsi : Ri-Sg-TQ+TV-TQ+T[-Sc-\n"
     ]
    }
   ],
   "source": [
    "def encryption(password):\n",
    "    result = \"\"\n",
    "    for char in password:\n",
    "        ascii = ord(char)   #karakter diubah menjadi ASCII\n",
    "        first_value = (ascii / 26) + 80     #value 1\n",
    "        second_value = (ascii % 26) + 80    #value 2\n",
    "\n",
    "    #value 3\n",
    "        if first_value > second_value:  \n",
    "            third_value = \"+\"\n",
    "        else:\n",
    "            third_value = \"-\"\n",
    "        result += chr(int(first_value)) + chr(int(second_value)) + third_value #gabungan value 1,2, dan 3\n",
    "    return result\n",
    "\n",
    "password = input(\"Masukkan Password Anda : \")\n",
    "if len(password) > 100:\n",
    "    print(\"Maaf, Password terlalu panjang. Harap ketikkan maksimal 100 karakter.\")\n",
    "else:\n",
    "    encrypted_password = encryption(password)\n",
    "    print(\"Password awal Anda : \" + password)\n",
    "    print(\"Password terenkripsi : \" + encrypted_password)"
   ]
  }
 ],
 "metadata": {
  "kernelspec": {
   "display_name": "Python 3",
   "language": "python",
   "name": "python3"
  },
  "language_info": {
   "codemirror_mode": {
    "name": "ipython",
    "version": 3
   },
   "file_extension": ".py",
   "mimetype": "text/x-python",
   "name": "python",
   "nbconvert_exporter": "python",
   "pygments_lexer": "ipython3",
   "version": "3.10.9"
  },
  "orig_nbformat": 4,
  "vscode": {
   "interpreter": {
    "hash": "65a440aeac0c89e2af7569e0aa53b64434c4b69eb6285e2b0d174d9bca190d54"
   }
  }
 },
 "nbformat": 4,
 "nbformat_minor": 2
}
